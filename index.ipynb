{
 "cells": [
  {
   "cell_type": "markdown",
   "metadata": {
    "slideshow": {
     "slide_type": "slide"
    }
   },
   "source": [
    "# Machine Learning Experiments with Sacred\n",
    "\n"
   ]
  },
  {
   "cell_type": "markdown",
   "metadata": {
    "slideshow": {
     "slide_type": "slide"
    }
   },
   "source": [
    "## About me\n",
    "\n",
    "### Hi, I am Rüdiger\n",
    "\n",
    "### GitHub: JarnoRFB\n",
    "\n",
    "<br/>\n",
    "<div style=\"float:left\">\n",
    "<div style=\"width: 35%; float:left\">\n",
    "<img src=\"http://computational-cognition.eu/files/header.jpg\"/>\n",
    "    <p><b>Neuroinformatics Group Osnabrück</b></p>\n",
    "</div>\n",
    "<div style=\"width: 55%;float:right\">\n",
    "<img src=\"http://www.sialon.eu/data2/images/63_Logo_Germany_RobertKoch.jpg\"/>\n",
    "</div>\n",
    "</div>"
   ]
  },
  {
   "cell_type": "markdown",
   "metadata": {
    "slideshow": {
     "slide_type": "slide"
    }
   },
   "source": [
    "## Let's try to solve a classic machine learning problem!\n",
    "* Let's take the breast cancer dataset from scikit-learn.\n",
    "* It describes 30 numeric features of the cell nuclei. \n",
    "* The target is to figure out, whether the cells are benign or a malignant turmor."
   ]
  },
  {
   "cell_type": "code",
   "execution_count": 1,
   "metadata": {
    "slideshow": {
     "slide_type": "slide"
    }
   },
   "outputs": [],
   "source": [
    "import os\n",
    "import pandas as pd\n",
    "from sklearn import svm, datasets, model_selection"
   ]
  },
  {
   "cell_type": "code",
   "execution_count": 2,
   "metadata": {
    "slideshow": {
     "slide_type": "fragment"
    }
   },
   "outputs": [
    {
     "data": {
      "text/html": [
       "<div>\n",
       "<style scoped>\n",
       "    .dataframe tbody tr th:only-of-type {\n",
       "        vertical-align: middle;\n",
       "    }\n",
       "\n",
       "    .dataframe tbody tr th {\n",
       "        vertical-align: top;\n",
       "    }\n",
       "\n",
       "    .dataframe thead th {\n",
       "        text-align: right;\n",
       "    }\n",
       "</style>\n",
       "<table border=\"1\" class=\"dataframe\">\n",
       "  <thead>\n",
       "    <tr style=\"text-align: right;\">\n",
       "      <th></th>\n",
       "      <th>mean radius</th>\n",
       "      <th>mean texture</th>\n",
       "      <th>mean perimeter</th>\n",
       "      <th>mean area</th>\n",
       "      <th>mean smoothness</th>\n",
       "      <th>mean compactness</th>\n",
       "      <th>mean concavity</th>\n",
       "      <th>mean concave points</th>\n",
       "      <th>mean symmetry</th>\n",
       "      <th>mean fractal dimension</th>\n",
       "      <th>...</th>\n",
       "      <th>worst radius</th>\n",
       "      <th>worst texture</th>\n",
       "      <th>worst perimeter</th>\n",
       "      <th>worst area</th>\n",
       "      <th>worst smoothness</th>\n",
       "      <th>worst compactness</th>\n",
       "      <th>worst concavity</th>\n",
       "      <th>worst concave points</th>\n",
       "      <th>worst symmetry</th>\n",
       "      <th>worst fractal dimension</th>\n",
       "    </tr>\n",
       "  </thead>\n",
       "  <tbody>\n",
       "    <tr>\n",
       "      <th>0</th>\n",
       "      <td>17.99</td>\n",
       "      <td>10.38</td>\n",
       "      <td>122.80</td>\n",
       "      <td>1001.0</td>\n",
       "      <td>0.11840</td>\n",
       "      <td>0.27760</td>\n",
       "      <td>0.3001</td>\n",
       "      <td>0.14710</td>\n",
       "      <td>0.2419</td>\n",
       "      <td>0.07871</td>\n",
       "      <td>...</td>\n",
       "      <td>25.38</td>\n",
       "      <td>17.33</td>\n",
       "      <td>184.60</td>\n",
       "      <td>2019.0</td>\n",
       "      <td>0.1622</td>\n",
       "      <td>0.6656</td>\n",
       "      <td>0.7119</td>\n",
       "      <td>0.2654</td>\n",
       "      <td>0.4601</td>\n",
       "      <td>0.11890</td>\n",
       "    </tr>\n",
       "    <tr>\n",
       "      <th>1</th>\n",
       "      <td>20.57</td>\n",
       "      <td>17.77</td>\n",
       "      <td>132.90</td>\n",
       "      <td>1326.0</td>\n",
       "      <td>0.08474</td>\n",
       "      <td>0.07864</td>\n",
       "      <td>0.0869</td>\n",
       "      <td>0.07017</td>\n",
       "      <td>0.1812</td>\n",
       "      <td>0.05667</td>\n",
       "      <td>...</td>\n",
       "      <td>24.99</td>\n",
       "      <td>23.41</td>\n",
       "      <td>158.80</td>\n",
       "      <td>1956.0</td>\n",
       "      <td>0.1238</td>\n",
       "      <td>0.1866</td>\n",
       "      <td>0.2416</td>\n",
       "      <td>0.1860</td>\n",
       "      <td>0.2750</td>\n",
       "      <td>0.08902</td>\n",
       "    </tr>\n",
       "    <tr>\n",
       "      <th>2</th>\n",
       "      <td>19.69</td>\n",
       "      <td>21.25</td>\n",
       "      <td>130.00</td>\n",
       "      <td>1203.0</td>\n",
       "      <td>0.10960</td>\n",
       "      <td>0.15990</td>\n",
       "      <td>0.1974</td>\n",
       "      <td>0.12790</td>\n",
       "      <td>0.2069</td>\n",
       "      <td>0.05999</td>\n",
       "      <td>...</td>\n",
       "      <td>23.57</td>\n",
       "      <td>25.53</td>\n",
       "      <td>152.50</td>\n",
       "      <td>1709.0</td>\n",
       "      <td>0.1444</td>\n",
       "      <td>0.4245</td>\n",
       "      <td>0.4504</td>\n",
       "      <td>0.2430</td>\n",
       "      <td>0.3613</td>\n",
       "      <td>0.08758</td>\n",
       "    </tr>\n",
       "    <tr>\n",
       "      <th>3</th>\n",
       "      <td>11.42</td>\n",
       "      <td>20.38</td>\n",
       "      <td>77.58</td>\n",
       "      <td>386.1</td>\n",
       "      <td>0.14250</td>\n",
       "      <td>0.28390</td>\n",
       "      <td>0.2414</td>\n",
       "      <td>0.10520</td>\n",
       "      <td>0.2597</td>\n",
       "      <td>0.09744</td>\n",
       "      <td>...</td>\n",
       "      <td>14.91</td>\n",
       "      <td>26.50</td>\n",
       "      <td>98.87</td>\n",
       "      <td>567.7</td>\n",
       "      <td>0.2098</td>\n",
       "      <td>0.8663</td>\n",
       "      <td>0.6869</td>\n",
       "      <td>0.2575</td>\n",
       "      <td>0.6638</td>\n",
       "      <td>0.17300</td>\n",
       "    </tr>\n",
       "    <tr>\n",
       "      <th>4</th>\n",
       "      <td>20.29</td>\n",
       "      <td>14.34</td>\n",
       "      <td>135.10</td>\n",
       "      <td>1297.0</td>\n",
       "      <td>0.10030</td>\n",
       "      <td>0.13280</td>\n",
       "      <td>0.1980</td>\n",
       "      <td>0.10430</td>\n",
       "      <td>0.1809</td>\n",
       "      <td>0.05883</td>\n",
       "      <td>...</td>\n",
       "      <td>22.54</td>\n",
       "      <td>16.67</td>\n",
       "      <td>152.20</td>\n",
       "      <td>1575.0</td>\n",
       "      <td>0.1374</td>\n",
       "      <td>0.2050</td>\n",
       "      <td>0.4000</td>\n",
       "      <td>0.1625</td>\n",
       "      <td>0.2364</td>\n",
       "      <td>0.07678</td>\n",
       "    </tr>\n",
       "  </tbody>\n",
       "</table>\n",
       "<p>5 rows × 30 columns</p>\n",
       "</div>"
      ],
      "text/plain": [
       "   mean radius  mean texture  mean perimeter  mean area  mean smoothness  \\\n",
       "0        17.99         10.38          122.80     1001.0          0.11840   \n",
       "1        20.57         17.77          132.90     1326.0          0.08474   \n",
       "2        19.69         21.25          130.00     1203.0          0.10960   \n",
       "3        11.42         20.38           77.58      386.1          0.14250   \n",
       "4        20.29         14.34          135.10     1297.0          0.10030   \n",
       "\n",
       "   mean compactness  mean concavity  mean concave points  mean symmetry  \\\n",
       "0           0.27760          0.3001              0.14710         0.2419   \n",
       "1           0.07864          0.0869              0.07017         0.1812   \n",
       "2           0.15990          0.1974              0.12790         0.2069   \n",
       "3           0.28390          0.2414              0.10520         0.2597   \n",
       "4           0.13280          0.1980              0.10430         0.1809   \n",
       "\n",
       "   mean fractal dimension  ...  worst radius  worst texture  worst perimeter  \\\n",
       "0                 0.07871  ...         25.38          17.33           184.60   \n",
       "1                 0.05667  ...         24.99          23.41           158.80   \n",
       "2                 0.05999  ...         23.57          25.53           152.50   \n",
       "3                 0.09744  ...         14.91          26.50            98.87   \n",
       "4                 0.05883  ...         22.54          16.67           152.20   \n",
       "\n",
       "   worst area  worst smoothness  worst compactness  worst concavity  \\\n",
       "0      2019.0            0.1622             0.6656           0.7119   \n",
       "1      1956.0            0.1238             0.1866           0.2416   \n",
       "2      1709.0            0.1444             0.4245           0.4504   \n",
       "3       567.7            0.2098             0.8663           0.6869   \n",
       "4      1575.0            0.1374             0.2050           0.4000   \n",
       "\n",
       "   worst concave points  worst symmetry  worst fractal dimension  \n",
       "0                0.2654          0.4601                  0.11890  \n",
       "1                0.1860          0.2750                  0.08902  \n",
       "2                0.2430          0.3613                  0.08758  \n",
       "3                0.2575          0.6638                  0.17300  \n",
       "4                0.1625          0.2364                  0.07678  \n",
       "\n",
       "[5 rows x 30 columns]"
      ]
     },
     "execution_count": 2,
     "metadata": {},
     "output_type": "execute_result"
    }
   ],
   "source": [
    "dataset = datasets.load_breast_cancer()\n",
    "data = pd.DataFrame(data=dataset.data, columns=dataset.feature_names)\n",
    "data.head()"
   ]
  },
  {
   "cell_type": "markdown",
   "metadata": {
    "slideshow": {
     "slide_type": "slide"
    }
   },
   "source": [
    "Nothing easier than that! We just split the data into training and test set, and throw a standard Support Vector Machine at the problem. "
   ]
  },
  {
   "cell_type": "code",
   "execution_count": 3,
   "metadata": {
    "slideshow": {
     "slide_type": "fragment"
    }
   },
   "outputs": [
    {
     "data": {
      "text/plain": [
       "0.631578947368421"
      ]
     },
     "execution_count": 3,
     "metadata": {},
     "output_type": "execute_result"
    }
   ],
   "source": [
    "X, y = datasets.load_breast_cancer(return_X_y=True)\n",
    "X_train, X_test, y_train, y_test = model_selection.train_test_split(X, y, test_size=0.2)\n",
    "\n",
    "clf = svm.SVC(C=5, kernel=\"rbf\", gamma=0.9)\n",
    "clf.fit(X_train, y_train)\n",
    "\n",
    "clf.score(X_test, y_test)"
   ]
  },
  {
   "cell_type": "markdown",
   "metadata": {
    "slideshow": {
     "slide_type": "fragment"
    }
   },
   "source": [
    "Next we try to tune the parameters a bit to get optimal performance."
   ]
  },
  {
   "cell_type": "markdown",
   "metadata": {
    "slideshow": {
     "slide_type": "fragment"
    }
   },
   "source": [
    "However, after some time we start to forget what combinations we tried already and what the actual results where..."
   ]
  },
  {
   "cell_type": "markdown",
   "metadata": {
    "slideshow": {
     "slide_type": "slide"
    }
   },
   "source": [
    "## Sacred to the rescue\n",
    "\n",
    "\n",
    "> Every experiment is sacred <br/>\n",
    "> Every experiment is great <br/>\n",
    "> If an experiment is wasted <br/>\n",
    "> God gets quite irate <br/>\n",
    "\n",
    " &mdash; Modified after *Monty Python's The Meaning of Life*\n",
    " \n",
    "[sacred](https://github.com/IDSIA/sacred) is a library that helps you to keep track of your machine learning experiments."
   ]
  },
  {
   "cell_type": "code",
   "execution_count": 4,
   "metadata": {
    "slideshow": {
     "slide_type": "subslide"
    }
   },
   "outputs": [],
   "source": [
    "from sacred import Experiment\n",
    "\n",
    "ex = Experiment(\n",
    "    name=\"svm\", \n",
    "    interactive=True,  # Because we are running in IPython.\n",
    ")"
   ]
  },
  {
   "cell_type": "code",
   "execution_count": 5,
   "metadata": {
    "slideshow": {
     "slide_type": "fragment"
    }
   },
   "outputs": [],
   "source": [
    "@ex.config\n",
    "def cfg():\n",
    "    C = 1.0\n",
    "    gamma = 0.7\n",
    "    kernel = \"rbf\"\n",
    "    seed = 42  # Add a seed to the config for more determinism.\n"
   ]
  },
  {
   "cell_type": "code",
   "execution_count": 6,
   "metadata": {
    "slideshow": {
     "slide_type": "fragment"
    }
   },
   "outputs": [],
   "source": [
    "@ex.main\n",
    "def run(C, kernel, gamma):\n",
    "    X, y = datasets.load_breast_cancer(return_X_y=True)\n",
    "    X_train, X_test, y_train, y_test = model_selection.train_test_split(X, y, test_size=0.2)\n",
    "\n",
    "    clf = svm.SVC(C, gamma=gamma, kernel=kernel)\n",
    "    clf.fit(X_train, y_train)\n",
    "\n",
    "    return clf.score(X_test, y_test)"
   ]
  },
  {
   "cell_type": "code",
   "execution_count": 7,
   "metadata": {
    "slideshow": {
     "slide_type": "fragment"
    }
   },
   "outputs": [
    {
     "name": "stderr",
     "output_type": "stream",
     "text": [
      "WARNING - svm - No observers have been added to this run\n",
      "INFO - svm - Running command 'run'\n",
      "INFO - svm - Started\n",
      "INFO - svm - Result: 0.6228070175438597\n",
      "INFO - svm - Completed after 0:00:00\n"
     ]
    },
    {
     "data": {
      "text/plain": [
       "<sacred.run.Run at 0x7f9c7e9bd128>"
      ]
     },
     "execution_count": 7,
     "metadata": {},
     "output_type": "execute_result"
    }
   ],
   "source": [
    "ex.run()"
   ]
  },
  {
   "cell_type": "markdown",
   "metadata": {
    "slideshow": {
     "slide_type": "slide"
    }
   },
   "source": [
    "## Modularizing using captured functions\n",
    "\n",
    "The `ex.capture` decorator injects the config into the function. We can call caputured functions without explicitly passing the arguments later on."
   ]
  },
  {
   "cell_type": "code",
   "execution_count": 8,
   "metadata": {
    "slideshow": {
     "slide_type": "subslide"
    }
   },
   "outputs": [
    {
     "name": "stderr",
     "output_type": "stream",
     "text": [
      "WARNING - svm - No observers have been added to this run\n",
      "INFO - svm - Running command 'run'\n",
      "INFO - svm - Started\n",
      "INFO - svm - Result: 0.6228070175438597\n",
      "INFO - svm - Completed after 0:00:00\n"
     ]
    },
    {
     "data": {
      "text/plain": [
       "<sacred.run.Run at 0x7f9c395354e0>"
      ]
     },
     "execution_count": 8,
     "metadata": {},
     "output_type": "execute_result"
    }
   ],
   "source": [
    "ex = Experiment('svm', interactive=True)\n",
    "\n",
    "@ex.config\n",
    "def cfg():\n",
    "    C = 1.0\n",
    "    gamma = 0.7\n",
    "    kernel = 'rbf'\n",
    "    seed = 42\n",
    "    \n",
    "@ex.capture\n",
    "def get_model(C, gamma, kernel):\n",
    "    return svm.SVC(C=C, kernel=kernel, gamma=gamma)\n",
    "    \n",
    "@ex.main\n",
    "def run():  # Now we don't have to pass parameters to run anymore.\n",
    "    X, y = datasets.load_breast_cancer(return_X_y=True)\n",
    "    X_train, X_test, y_train, y_test = model_selection.train_test_split(X, y, test_size=0.2)\n",
    "    clf = get_model()  # Parameter from the config are automatically injected.\n",
    "    clf.fit(X_train, y_train)\n",
    "    return clf.score(X_test, y_test)\n",
    "\n",
    "ex.run()"
   ]
  },
  {
   "cell_type": "markdown",
   "metadata": {
    "slideshow": {
     "slide_type": "slide"
    }
   },
   "source": [
    "## Adding Observers\n",
    "By adding observers, we can store configurations and results of experiments into a database, preferably MongoDB."
   ]
  },
  {
   "cell_type": "code",
   "execution_count": 9,
   "metadata": {
    "slideshow": {
     "slide_type": "skip"
    }
   },
   "outputs": [
    {
     "data": {
      "text/plain": [
       "True"
      ]
     },
     "execution_count": 9,
     "metadata": {},
     "output_type": "execute_result"
    }
   ],
   "source": [
    "# Load some environment variables, to match the docker environment.\n",
    "from dotenv import load_dotenv\n",
    "env_path = 'sacred_setup_protected/.env'\n",
    "load_dotenv(dotenv_path=env_path)"
   ]
  },
  {
   "cell_type": "code",
   "execution_count": 10,
   "metadata": {
    "slideshow": {
     "slide_type": "skip"
    }
   },
   "outputs": [],
   "source": [
    "# If you use the protected setup.\n",
    "db_name = os.environ['MONGO_DATABASE']\n",
    "mongo_uri = (f'mongodb://{os.environ[\"MONGO_INITDB_ROOT_USERNAME\"]}:'\n",
    "             f'{os.environ[\"MONGO_INITDB_ROOT_PASSWORD\"]}@localhost:27017/?authMechanism=SCRAM-SHA-1')"
   ]
  },
  {
   "cell_type": "code",
   "execution_count": 11,
   "metadata": {
    "slideshow": {
     "slide_type": "subslide"
    }
   },
   "outputs": [],
   "source": [
    "# If you use the unprotected setup just running on localhost.\n",
    "db_name = \"pydata_berlin\"\n",
    "mongo_uri = None"
   ]
  },
  {
   "cell_type": "code",
   "execution_count": 12,
   "metadata": {
    "slideshow": {
     "slide_type": "subslide"
    }
   },
   "outputs": [],
   "source": [
    "from sacred.observers import MongoObserver\n",
    "\n",
    "ex = Experiment('svm', interactive=True)\n",
    "\n",
    "ex.observers.append(\n",
    "    MongoObserver.create(\n",
    "        url=mongo_uri,\n",
    "        db_name=db_name,\n",
    "    )\n",
    ")"
   ]
  },
  {
   "cell_type": "code",
   "execution_count": 13,
   "metadata": {
    "slideshow": {
     "slide_type": "subslide"
    }
   },
   "outputs": [
    {
     "name": "stderr",
     "output_type": "stream",
     "text": [
      "INFO - svm - Running command 'run'\n",
      "INFO - svm - Started run with ID \"3\"\n",
      "INFO - svm - Result: 0.6228070175438597\n",
      "INFO - svm - Completed after 0:00:00\n"
     ]
    },
    {
     "data": {
      "text/plain": [
       "<sacred.run.Run at 0x7f9c38f37be0>"
      ]
     },
     "execution_count": 13,
     "metadata": {},
     "output_type": "execute_result"
    }
   ],
   "source": [
    "@ex.config\n",
    "def cfg():\n",
    "    C = 1.0\n",
    "    gamma = 0.7\n",
    "    kernel = 'rbf'\n",
    "    seed = 42\n",
    "    \n",
    "@ex.main\n",
    "def run(C, kernel, gamma):\n",
    "    X, y = datasets.load_breast_cancer(return_X_y=True)\n",
    "    X_train, X_test, y_train, y_test = model_selection.train_test_split(X, y, test_size=0.2)\n",
    "\n",
    "    clf = svm.SVC(C, gamma=gamma, kernel=kernel)\n",
    "    clf.fit(X_train, y_train)\n",
    "\n",
    "    return clf.score(X_test, y_test)\n",
    "\n",
    "ex.run()\n",
    "# The \"No observers have been added to this run\" warning vanishes."
   ]
  },
  {
   "cell_type": "markdown",
   "metadata": {
    "slideshow": {
     "slide_type": "subslide"
    }
   },
   "source": [
    "Now we can view the result in a dashboard like [Omniboard](https://github.com/vivekratnavel/omniboard). Go to http://localhost:9000/ to see the how it looks."
   ]
  },
  {
   "cell_type": "markdown",
   "metadata": {
    "slideshow": {
     "slide_type": "slide"
    }
   },
   "source": [
    "## Recording metrics and artifacts\n",
    "We can attach metrics and even entire files as artifacts to our experiments."
   ]
  },
  {
   "cell_type": "code",
   "execution_count": 14,
   "metadata": {
    "scrolled": true,
    "slideshow": {
     "slide_type": "subslide"
    }
   },
   "outputs": [],
   "source": [
    "import seaborn as sns\n",
    "import numpy as np\n",
    "import matplotlib.pyplot as plt\n",
    "from sklearn.metrics import f1_score, confusion_matrix\n",
    "\n",
    "\n",
    "def plot_confusion_matrix(confusion_matrix, class_names):\n",
    "    df_cm = pd.DataFrame(\n",
    "        confusion_matrix, index=class_names, columns=class_names,\n",
    "    )\n",
    "    fig, ax = plt.subplots()\n",
    "    heatmap = sns.heatmap(df_cm, annot=True, cmap=\"Blues\")\n",
    "    heatmap.set(ylabel='True label', xlabel='Predicted label')\n",
    "\n",
    "    return fig"
   ]
  },
  {
   "cell_type": "code",
   "execution_count": 15,
   "metadata": {
    "slideshow": {
     "slide_type": "fragment"
    }
   },
   "outputs": [],
   "source": [
    "ex = Experiment('svm', interactive=True)\n",
    "\n",
    "ex.observers.append(MongoObserver.create(\n",
    "    url=mongo_uri,\n",
    "    db_name=db_name))\n",
    "\n",
    "@ex.config\n",
    "def cfg():\n",
    "    C = 1.0\n",
    "    gamma = 0.7\n",
    "    kernel = 'linear'  # Try out a different kernel.\n",
    "    seed = 42\n",
    "    \n",
    "@ex.capture\n",
    "def get_model(C, gamma, kernel):\n",
    "    return svm.SVC(C=C, kernel=kernel, gamma=gamma)"
   ]
  },
  {
   "cell_type": "code",
   "execution_count": 16,
   "metadata": {
    "slideshow": {
     "slide_type": "fragment"
    }
   },
   "outputs": [
    {
     "name": "stderr",
     "output_type": "stream",
     "text": [
      "INFO - svm - Running command 'run'\n",
      "INFO - svm - Started run with ID \"4\"\n",
      "INFO - svm - Result: 0.956140350877193\n",
      "INFO - svm - Completed after 0:00:01\n"
     ]
    },
    {
     "name": "stdout",
     "output_type": "stream",
     "text": [
      "Added image/png as content-type of artifact /home/jarno/projects/pydata_berlin_sacred/confusion_matrix.png.\n"
     ]
    },
    {
     "data": {
      "text/plain": [
       "<sacred.run.Run at 0x7f9c2b39e5c0>"
      ]
     },
     "execution_count": 16,
     "metadata": {},
     "output_type": "execute_result"
    },
    {
     "data": {
      "image/png": "[encoded data removed]",
      "text/plain": [
       "<Figure size 432x288 with 2 Axes>"
      ]
     },
     "metadata": {
      "needs_background": "light"
     },
     "output_type": "display_data"
    }
   ],
   "source": [
    "@ex.main\n",
    "def run(C, kernel, gamma, _run):\n",
    "    X, y = datasets.load_breast_cancer(return_X_y=True)\n",
    "    X_train, X_test, y_train, y_test = model_selection.train_test_split(X, y, test_size=0.2)\n",
    "\n",
    "    clf = get_model()\n",
    "    clf.fit(X_train, y_train)\n",
    "    y_pred = clf.predict(X_test)\n",
    "    \n",
    "    # Plot the confusion matrix and store it as PNG.             \n",
    "    cm_filename = 'confusion_matrix.png' \n",
    "    confusion = confusion_matrix(y_test, y_pred, labels=[False, True])\n",
    "    fig = plot_confusion_matrix(confusion, class_names=['Malignant', 'Benign'])\n",
    "    fig.savefig(cm_filename)\n",
    "    # Save the artifact.\n",
    "    _run.add_artifact(cm_filename)\n",
    "    \n",
    "    # Save the F1 score as a metric.\n",
    "    _run.log_scalar('F1', f1_score(y_test, y_pred))\n",
    "             \n",
    "    return clf.score(X_test, y_test)\n",
    "\n",
    "ex.run()"
   ]
  },
  {
   "cell_type": "markdown",
   "metadata": {
    "slideshow": {
     "slide_type": "slide"
    }
   },
   "source": [
    "## Retrieving results using incense\n",
    "Once we are done conducting our experiments, we can get the results back into Python using [incense](https://github.com/JarnoRFB/incense). This is especially useful for organizing results in a comprehensive way."
   ]
  },
  {
   "cell_type": "code",
   "execution_count": 17,
   "metadata": {
    "slideshow": {
     "slide_type": "subslide"
    }
   },
   "outputs": [],
   "source": [
    "from incense import ExperimentLoader\n",
    "\n",
    "loader = ExperimentLoader(\n",
    "    mongo_uri=mongo_uri,\n",
    "    db_name=db_name,\n",
    ")"
   ]
  },
  {
   "cell_type": "code",
   "execution_count": 18,
   "metadata": {
    "slideshow": {
     "slide_type": "fragment"
    }
   },
   "outputs": [
    {
     "data": {
      "text/plain": [
       "Experiment(id=1, name=svm)"
      ]
     },
     "execution_count": 18,
     "metadata": {},
     "output_type": "execute_result"
    }
   ],
   "source": [
    "exp = loader.find_by_id(1)\n",
    "exp"
   ]
  },
  {
   "cell_type": "code",
   "execution_count": 19,
   "metadata": {
    "slideshow": {
     "slide_type": "fragment"
    }
   },
   "outputs": [
    {
     "data": {
      "text/plain": [
       "pmap({'kernel': 'rbf', 'gamma': 0.7, 'C': 1.0, 'seed': 42})"
      ]
     },
     "execution_count": 19,
     "metadata": {},
     "output_type": "execute_result"
    }
   ],
   "source": [
    "exp.config"
   ]
  },
  {
   "cell_type": "code",
   "execution_count": 20,
   "metadata": {
    "slideshow": {
     "slide_type": "fragment"
    }
   },
   "outputs": [
    {
     "data": {
      "text/plain": [
       "0.6228070175438597"
      ]
     },
     "execution_count": 20,
     "metadata": {},
     "output_type": "execute_result"
    }
   ],
   "source": [
    "exp.result"
   ]
  },
  {
   "cell_type": "code",
   "execution_count": 21,
   "metadata": {
    "slideshow": {
     "slide_type": "fragment"
    }
   },
   "outputs": [
    {
     "data": {
      "text/plain": [
       "Experiment(id=2, name=svm)"
      ]
     },
     "execution_count": 21,
     "metadata": {},
     "output_type": "execute_result"
    }
   ],
   "source": [
    "exp = loader.find_by_config_key('kernel', 'linear')[0]\n",
    "exp"
   ]
  },
  {
   "cell_type": "code",
   "execution_count": 22,
   "metadata": {
    "slideshow": {
     "slide_type": "subslide"
    }
   },
   "outputs": [
    {
     "data": {
      "image/png": "[encoded data removed]",
      "text/plain": [
       "<IPython.core.display.Image object>"
      ]
     },
     "execution_count": 22,
     "metadata": {},
     "output_type": "execute_result"
    }
   ],
   "source": [
    "exp.artifacts['confusion_matrix.png'].render()"
   ]
  },
  {
   "cell_type": "code",
   "execution_count": 23,
   "metadata": {},
   "outputs": [
    {
     "data": {
      "text/html": [
       "<div>\n",
       "<style scoped>\n",
       "    .dataframe tbody tr th:only-of-type {\n",
       "        vertical-align: middle;\n",
       "    }\n",
       "\n",
       "    .dataframe tbody tr th {\n",
       "        vertical-align: top;\n",
       "    }\n",
       "\n",
       "    .dataframe thead th {\n",
       "        text-align: right;\n",
       "    }\n",
       "</style>\n",
       "<table border=\"1\" class=\"dataframe\">\n",
       "  <thead>\n",
       "    <tr style=\"text-align: right;\">\n",
       "      <th></th>\n",
       "      <th>kernel</th>\n",
       "      <th>result</th>\n",
       "    </tr>\n",
       "    <tr>\n",
       "      <th>exp_id</th>\n",
       "      <th></th>\n",
       "      <th></th>\n",
       "    </tr>\n",
       "  </thead>\n",
       "  <tbody>\n",
       "    <tr>\n",
       "      <th>1</th>\n",
       "      <td>rbf</td>\n",
       "      <td>0.622807</td>\n",
       "    </tr>\n",
       "    <tr>\n",
       "      <th>2</th>\n",
       "      <td>linear</td>\n",
       "      <td>0.956140</td>\n",
       "    </tr>\n",
       "    <tr>\n",
       "      <th>3</th>\n",
       "      <td>rbf</td>\n",
       "      <td>0.622807</td>\n",
       "    </tr>\n",
       "    <tr>\n",
       "      <th>4</th>\n",
       "      <td>linear</td>\n",
       "      <td>0.956140</td>\n",
       "    </tr>\n",
       "  </tbody>\n",
       "</table>\n",
       "</div>"
      ],
      "text/plain": [
       "        kernel    result\n",
       "exp_id                  \n",
       "1          rbf  0.622807\n",
       "2       linear  0.956140\n",
       "3          rbf  0.622807\n",
       "4       linear  0.956140"
      ]
     },
     "execution_count": 23,
     "metadata": {},
     "output_type": "execute_result"
    }
   ],
   "source": [
    "loader.find_all().project(on=[\"config.kernel\",\"result\"])"
   ]
  },
  {
   "cell_type": "code",
   "execution_count": 24,
   "metadata": {
    "slideshow": {
     "slide_type": "fragment"
    }
   },
   "outputs": [
    {
     "data": {
      "text/plain": [
       "step\n",
       "0    0.965517\n",
       "Name: F1, dtype: float64"
      ]
     },
     "execution_count": 24,
     "metadata": {},
     "output_type": "execute_result"
    }
   ],
   "source": [
    "exp.metrics[\"F1\"]"
   ]
  },
  {
   "cell_type": "markdown",
   "metadata": {
    "slideshow": {
     "slide_type": "slide"
    }
   },
   "source": [
    "## Some powerful usage patterns"
   ]
  },
  {
   "cell_type": "markdown",
   "metadata": {
    "slideshow": {
     "slide_type": "slide"
    }
   },
   "source": [
    "## Configurations from files\n",
    "Instead of defining your configuration in a Python function you can outsource it to a JSON or YAML file."
   ]
  },
  {
   "cell_type": "code",
   "execution_count": null,
   "metadata": {
    "slideshow": {
     "slide_type": "subslide"
    }
   },
   "outputs": [],
   "source": [
    "# %load config.json\n",
    "{\n",
    "  \"C\": 1.0,\n",
    "  \"gamma\": 0.7,\n",
    "  \"kernel\": \"rbf\",\n",
    "  \"seed\": 42\n",
    "}\n"
   ]
  },
  {
   "cell_type": "code",
   "execution_count": 25,
   "metadata": {
    "slideshow": {
     "slide_type": "subslide"
    }
   },
   "outputs": [
    {
     "name": "stderr",
     "output_type": "stream",
     "text": [
      "INFO - svm - Running command 'run'\n",
      "INFO - svm - Started run with ID \"5\"\n",
      "INFO - svm - Result: 0.6228070175438597\n",
      "INFO - svm - Completed after 0:00:00\n"
     ]
    },
    {
     "data": {
      "text/plain": [
       "<sacred.run.Run at 0x7f9c1bf63a58>"
      ]
     },
     "execution_count": 25,
     "metadata": {},
     "output_type": "execute_result"
    }
   ],
   "source": [
    "from sacred.observers import MongoObserver\n",
    "\n",
    "ex = Experiment(\"svm\", interactive=True)\n",
    "\n",
    "ex.observers.append(\n",
    "    MongoObserver.create(\n",
    "        url=mongo_uri,\n",
    "        db_name=db_name,\n",
    "    )\n",
    ")\n",
    "\n",
    "ex.add_config(\"config.json\")  # Load the config from a file.\n",
    "\n",
    "@ex.main\n",
    "def run(C, kernel, gamma):\n",
    "    X, y = datasets.load_breast_cancer(return_X_y=True)\n",
    "    X_train, X_test, y_train, y_test = model_selection.train_test_split(X, y, test_size=0.2)\n",
    "\n",
    "    clf = svm.SVC(C, gamma=gamma, kernel=kernel)\n",
    "    clf.fit(X_train, y_train)\n",
    "\n",
    "    return clf.score(X_test, y_test)\n",
    "\n",
    "ex.run()"
   ]
  },
  {
   "cell_type": "markdown",
   "metadata": {
    "slideshow": {
     "slide_type": "slide"
    }
   },
   "source": [
    "## Invoking experiments from the command line"
   ]
  },
  {
   "cell_type": "code",
   "execution_count": null,
   "metadata": {
    "slideshow": {
     "slide_type": "subslide"
    }
   },
   "outputs": [],
   "source": [
    "# %load experiment.py\n",
    "import os\n",
    "\n",
    "from sacred import Experiment\n",
    "from sacred.observers import MongoObserver\n",
    "from sklearn import svm, datasets, model_selection\n",
    "from dotenv import load_dotenv\n",
    "\n",
    "\n",
    "db_name = \"pydata_berlin\"\n",
    "mongo_uri = None\n",
    "\n",
    "ex = Experiment('svm')\n",
    "\n",
    "ex.observers.append(\n",
    "    MongoObserver.create(\n",
    "        url=mongo_uri,\n",
    "        db_name=db_name,\n",
    "    )\n",
    ")\n",
    "\n",
    "     \n",
    "@ex.config\n",
    "def cfg():\n",
    "    C = 1.0\n",
    "    gamma = 0.7\n",
    "    kernel = \"rbf\"\n",
    "    seed = 42\n",
    "\n",
    "\n",
    "@ex.capture\n",
    "def get_model(C, gamma, kernel):\n",
    "    return svm.SVC(C=C, kernel=kernel, gamma=gamma)\n",
    "\n",
    "           \n",
    "@ex.automain # Use automain to enable command line integration.\n",
    "def run():\n",
    "    X, y = datasets.load_breast_cancer(return_X_y=True)\n",
    "    X_train, X_test, y_train, y_test = model_selection.train_test_split(X, y, test_size=0.2)\n",
    "    clf = get_model()\n",
    "    clf.fit(X_train, y_train)\n",
    "    return clf.score(X_test, y_test)\n"
   ]
  },
  {
   "cell_type": "code",
   "execution_count": 26,
   "metadata": {
    "slideshow": {
     "slide_type": "subslide"
    }
   },
   "outputs": [
    {
     "name": "stdout",
     "output_type": "stream",
     "text": [
      "INFO - svm - Running command 'run'\n",
      "INFO - svm - Started run with ID \"6\"\n",
      "INFO - svm - Result: 0.6228070175438597\n",
      "INFO - svm - Completed after 0:00:00\n"
     ]
    }
   ],
   "source": [
    "!python experiment.py"
   ]
  },
  {
   "cell_type": "code",
   "execution_count": 27,
   "metadata": {
    "slideshow": {
     "slide_type": "fragment"
    }
   },
   "outputs": [
    {
     "name": "stdout",
     "output_type": "stream",
     "text": [
      "INFO - svm - Running command 'run'\n",
      "INFO - svm - Started run with ID \"7\"\n",
      "INFO - svm - Result: 0.956140350877193\n",
      "INFO - svm - Completed after 0:00:01\n"
     ]
    }
   ],
   "source": [
    "!python experiment.py with kernel=linear"
   ]
  },
  {
   "cell_type": "code",
   "execution_count": 28,
   "metadata": {
    "slideshow": {
     "slide_type": "fragment"
    }
   },
   "outputs": [
    {
     "name": "stdout",
     "output_type": "stream",
     "text": [
      "INFO - svm - Running command 'run'\n",
      "INFO - svm - Started run with ID \"8\"\n",
      "INFO - svm - Result: 0.6228070175438597\n",
      "INFO - svm - Completed after 0:00:00\n"
     ]
    }
   ],
   "source": [
    "!python experiment.py with config.json"
   ]
  },
  {
   "cell_type": "markdown",
   "metadata": {
    "slideshow": {
     "slide_type": "slide"
    }
   },
   "source": [
    "## Modularizing using dynamic imports"
   ]
  },
  {
   "cell_type": "code",
   "execution_count": null,
   "metadata": {
    "slideshow": {
     "slide_type": "subslide"
    }
   },
   "outputs": [],
   "source": [
    "# %load config_svm.json\n",
    "{\n",
    "    \"model\": {\n",
    "        \"path\": \"sklearn.svm.SVC\",\n",
    "        \"hyperparameters\":{\n",
    "            \"C\": 1,\n",
    "            \"gamma\": 0.7,\n",
    "            \"kernel\": \"rbf\"\n",
    "        }\n",
    "    }\n",
    "}"
   ]
  },
  {
   "cell_type": "code",
   "execution_count": null,
   "metadata": {
    "slideshow": {
     "slide_type": "subslide"
    }
   },
   "outputs": [],
   "source": [
    "# %load experiment_dynamic.py\n",
    "import os\n",
    "from importlib import import_module  # For dynamic imports.\n",
    "\n",
    "from sacred import Experiment\n",
    "from sacred.observers import MongoObserver\n",
    "from sklearn import svm, datasets, model_selection\n",
    "from dotenv import load_dotenv\n",
    "\n",
    "db_name = \"pydata_berlin\"\n",
    "mongo_uri = None\n",
    "\n",
    "ex = Experiment('svm')\n",
    "\n",
    "ex.observers.append(\n",
    "    MongoObserver.create(\n",
    "        url=mongo_uri,\n",
    "        db_name=db_name,\n",
    "    )\n",
    ")\n",
    "\n",
    "             \n",
    "def load(path):\n",
    "    \"\"\"Load a class, given its fully qualified path.\"\"\"\n",
    "    p, m = path.rsplit('.', 1)\n",
    "    module = import_module(p)\n",
    "    class_or_method = getattr(module, m)\n",
    "    return class_or_method\n",
    "     \n",
    "\n",
    "@ex.capture(prefix=\"model\")  # Prefix to only get the relevant subset of the config.\n",
    "def get_model(path, hyperparameters):\n",
    "    Model = load(path)  # Import model class dynamically.\n",
    "    return Model(**hyperparameters)  # Instantiate with hyperparameters.\n",
    "\n",
    "           \n",
    "@ex.automain # Use automain to enable command line integration.\n",
    "def run():\n",
    "    X, y = datasets.load_breast_cancer(return_X_y=True)\n",
    "    X_train, X_test, y_train, y_test = model_selection.train_test_split(X, y, test_size=0.2)\n",
    "    clf = get_model()\n",
    "    clf.fit(X_train, y_train)\n",
    "    return clf.score(X_test, y_test)\n"
   ]
  },
  {
   "cell_type": "code",
   "execution_count": 29,
   "metadata": {
    "slideshow": {
     "slide_type": "subslide"
    }
   },
   "outputs": [
    {
     "name": "stdout",
     "output_type": "stream",
     "text": [
      "WARNING - root - Added new config entry: \"model.hyperparameters.C\"\n",
      "WARNING - root - Added new config entry: \"model.hyperparameters.gamma\"\n",
      "WARNING - root - Added new config entry: \"model.hyperparameters.kernel\"\n",
      "WARNING - root - Added new config entry: \"model.path\"\n",
      "INFO - svm - Running command 'run'\n",
      "INFO - svm - Started run with ID \"9\"\n",
      "INFO - svm - Result: 0.6052631578947368\n",
      "INFO - svm - Completed after 0:00:00\n"
     ]
    }
   ],
   "source": [
    "!python experiment_dynamic.py --name svm with config_svm.json "
   ]
  },
  {
   "cell_type": "code",
   "execution_count": 37,
   "metadata": {
    "slideshow": {
     "slide_type": "subslide"
    }
   },
   "outputs": [
    {
     "data": {
      "text/plain": [
       "{'model': {'path': 'sklearn.naive_bayes.MultinomialNB',\n",
       "  'hyperparameters': {'alpha': 1}}}"
      ]
     },
     "execution_count": 37,
     "metadata": {},
     "output_type": "execute_result"
    }
   ],
   "source": [
    "# %load config_bayes.json \n",
    "{\n",
    "    \"model\": {\n",
    "        \"path\": \"sklearn.naive_bayes.MultinomialNB\",\n",
    "        \"hyperparameters\":{\n",
    "            \"alpha\": 1\n",
    "        }\n",
    "    }\n",
    "}"
   ]
  },
  {
   "cell_type": "code",
   "execution_count": 30,
   "metadata": {
    "slideshow": {
     "slide_type": "fragment"
    }
   },
   "outputs": [
    {
     "name": "stdout",
     "output_type": "stream",
     "text": [
      "WARNING - root - Added new config entry: \"model.hyperparameters.alpha\"\r\n",
      "WARNING - root - Added new config entry: \"model.path\"\r\n",
      "INFO - naive_bayes - Running command 'run'\r\n",
      "INFO - naive_bayes - Started run with ID \"10\"\r\n",
      "INFO - naive_bayes - Result: 0.9210526315789473\r\n",
      "INFO - naive_bayes - Completed after 0:00:00\r\n"
     ]
    }
   ],
   "source": [
    "!python experiment_dynamic.py --name naive_bayes with config_bayes.json "
   ]
  },
  {
   "cell_type": "code",
   "execution_count": 39,
   "metadata": {
    "slideshow": {
     "slide_type": "subslide"
    }
   },
   "outputs": [
    {
     "data": {
      "text/plain": [
       "{'model': {'path': 'sklearn.ensemble.RandomForestClassifier',\n",
       "  'hyperparameters': {'n_estimators': 20, 'criterion': 'gini'}}}"
      ]
     },
     "execution_count": 39,
     "metadata": {},
     "output_type": "execute_result"
    }
   ],
   "source": [
    "# %load config_random_forrest.json\n",
    "{\n",
    "    \"model\": {\n",
    "        \"path\": \"sklearn.ensemble.RandomForestClassifier\",\n",
    "        \"hyperparameters\":{\n",
    "            \"n_estimators\": 20,\n",
    "            \"criterion\": \"gini\"\n",
    "        }\n",
    "    }\n",
    "}"
   ]
  },
  {
   "cell_type": "code",
   "execution_count": 31,
   "metadata": {
    "slideshow": {
     "slide_type": "fragment"
    }
   },
   "outputs": [
    {
     "name": "stdout",
     "output_type": "stream",
     "text": [
      "WARNING - root - Added new config entry: \"model.hyperparameters.criterion\"\n",
      "WARNING - root - Added new config entry: \"model.hyperparameters.n_estimators\"\n",
      "WARNING - root - Added new config entry: \"model.path\"\n",
      "INFO - random_forrest - Running command 'run'\n",
      "INFO - random_forrest - Started run with ID \"11\"\n",
      "INFO - random_forrest - Result: 0.9649122807017544\n",
      "INFO - random_forrest - Completed after 0:00:00\n"
     ]
    }
   ],
   "source": [
    "!python experiment_dynamic.py --name random_forrest with config_random_forrest.json "
   ]
  },
  {
   "cell_type": "markdown",
   "metadata": {
    "slideshow": {
     "slide_type": "slide"
    }
   },
   "source": [
    "The the SciPy talk for more information https://youtu.be/qqg7RO0o1OE"
   ]
  },
  {
   "cell_type": "code",
   "execution_count": 32,
   "metadata": {
    "scrolled": true,
    "slideshow": {
     "slide_type": "fragment"
    }
   },
   "outputs": [
    {
     "data": {
      "image/jpeg": "[encoded data removed]",
      "text/html": [
       "\n",
       "        <iframe\n",
       "            width=\"800\"\n",
       "            height=\"400\"\n",
       "            src=\"https://www.youtube.com/embed/qqg7RO0o1OE\"\n",
       "            frameborder=\"0\"\n",
       "            allowfullscreen\n",
       "        ></iframe>\n",
       "        "
      ],
      "text/plain": [
       "<IPython.lib.display.YouTubeVideo at 0x7f9c1bf4acc0>"
      ]
     },
     "execution_count": 32,
     "metadata": {},
     "output_type": "execute_result"
    }
   ],
   "source": [
    "from IPython.display import YouTubeVideo\n",
    "YouTubeVideo(\"qqg7RO0o1OE\", width=800, height=400)"
   ]
  },
  {
   "cell_type": "markdown",
   "metadata": {
    "slideshow": {
     "slide_type": "slide"
    }
   },
   "source": [
    "## Conclusion\n",
    "Don't waste time and resources on unreproducible experiments! Sacred will give you the necessary structure to find out which machine learning models are the right ones for you.  "
   ]
  },
  {
   "cell_type": "markdown",
   "metadata": {
    "slideshow": {
     "slide_type": "slide"
    }
   },
   "source": [
    "## Contributing\n",
    "Issues, feature and pull requests highly welcome! Just go to https://github.com/IDSIA/sacred"
   ]
  },
  {
   "cell_type": "markdown",
   "metadata": {
    "slideshow": {
     "slide_type": "slide"
    }
   },
   "source": [
    "## Thanks!\n",
    "\n",
    "## Questions?"
   ]
  }
 ],
 "metadata": {
  "celltoolbar": "Slideshow",
  "kernelspec": {
   "display_name": "Python 3",
   "language": "python",
   "name": "python3"
  },
  "language_info": {
   "codemirror_mode": {
    "name": "ipython",
    "version": 3
   },
   "file_extension": ".py",
   "mimetype": "text/x-python",
   "name": "python",
   "nbconvert_exporter": "python",
   "pygments_lexer": "ipython3",
   "version": "3.6.8"
  },
  "livereveal": {
   "autolaunch": true,
   "scroll": true
  }
 },
 "nbformat": 4,
 "nbformat_minor": 2
}
